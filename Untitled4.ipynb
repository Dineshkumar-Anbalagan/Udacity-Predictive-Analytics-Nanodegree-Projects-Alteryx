{
 "cells": [
  {
   "cell_type": "code",
   "execution_count": 23,
   "id": "3e6c23be",
   "metadata": {},
   "outputs": [
    {
     "name": "stdout",
     "output_type": "stream",
     "text": [
      "4 4\n",
      "1 1 0 0\n",
      "0 1 0 0\n",
      "0 0 1 0\n",
      "0 0 0 1\n",
      "5\n"
     ]
    }
   ],
   "source": [
    "def isSafe(M, row, col, visited):\n",
    "    \n",
    "    global ROW, COL\n",
    "\n",
    "\n",
    "    return ((row >= 0) and (row < ROW) and\n",
    "            (col >= 0) and (col < COL) and\n",
    "            (M[row][col] and not visited[row][col]))\n",
    "\n",
    "\n",
    "def DFS(M, row, col, visited, count):\n",
    "\n",
    "\n",
    "    rowNbr = [-1, -1, -1, 0, 0, 1, 1, 1]\n",
    "    colNbr = [-1, 0, 1, -1, 1, -1, 0, 1]\n",
    "\n",
    "    visited[row][col] = True\n",
    "\n",
    "    for k in range(8):\n",
    "        if (isSafe(M, row + rowNbr[k],\n",
    "                col + colNbr[k], visited)):\n",
    "\n",
    "            count[0] += 1\n",
    "            DFS(M, row + rowNbr[k],\n",
    "                col + colNbr[k], visited, count)\n",
    "\n",
    "\n",
    "\n",
    "def largestRegion(M):\n",
    "    global ROW, COL\n",
    "\n",
    "    visited = [[0] * COL for i in range(ROW)]\n",
    "\n",
    "    result = -999999999999\n",
    "    \n",
    "    for i in range(ROW):\n",
    "        \n",
    "        for j in range(COL):\n",
    "\n",
    "            if (M[i][j] and not visited[i][j]):\n",
    "\n",
    "                count = [1]\n",
    "                \n",
    "                DFS(M, i, j, visited, count)\n",
    "\n",
    "                result = max(result, count[0])\n",
    "    return result\n",
    "\n",
    "\n",
    "\n",
    "ROW, COL = input().split()\n",
    "\n",
    "ROW = int(ROW)\n",
    "COL = int(COL)\n",
    "\n",
    "'''\n",
    "M = [[0, 0, 1, 1, 0],\n",
    "    [1, 0, 1, 1, 0],\n",
    "    [0, 1, 0, 0, 0],\n",
    "    [0, 0, 0, 0, 1]]\n",
    "'''\n",
    "\n",
    "M = []\n",
    "\n",
    "  \n",
    "for i in range(ROW):  \n",
    "    \n",
    "    x = input().split()\n",
    "    \n",
    "    a = []\n",
    "    \n",
    "    if len(x) == COL:\n",
    "        \n",
    "        for i in x:\n",
    "            \n",
    "            a.append(int(i))\n",
    "            \n",
    "    M.append(a)\n",
    "\n",
    "print(largestRegion(M))\n"
   ]
  },
  {
   "cell_type": "code",
   "execution_count": 17,
   "id": "8773f114",
   "metadata": {},
   "outputs": [
    {
     "name": "stdout",
     "output_type": "stream",
     "text": [
      "Enter the number of rows:2\n",
      "Enter the number of columns:2\n",
      "Enter the entries rowwise:\n",
      "1\n",
      "2\n",
      "3\n",
      "4\n"
     ]
    }
   ],
   "source": [
    "R = int(input(\"Enter the number of rows:\"))\n",
    "C = int(input(\"Enter the number of columns:\"))\n",
    "  \n",
    "# Initialize matrix\n",
    "matrix = []\n",
    "print(\"Enter the entries rowwise:\")\n",
    "  \n",
    "# For user input\n",
    "for i in range(R):          # A for loop for row entries\n",
    "    a =[]\n",
    "    for j in range(C):      # A for loop for column entries\n",
    "         a.append(int(input()))\n",
    "    matrix.append(a)"
   ]
  },
  {
   "cell_type": "code",
   "execution_count": 20,
   "id": "86714716",
   "metadata": {},
   "outputs": [
    {
     "data": {
      "text/plain": [
       "[[1, 2], [3, 4]]"
      ]
     },
     "execution_count": 20,
     "metadata": {},
     "output_type": "execute_result"
    }
   ],
   "source": [
    "matrix"
   ]
  },
  {
   "cell_type": "code",
   "execution_count": 16,
   "id": "7f7ce95a",
   "metadata": {},
   "outputs": [
    {
     "name": "stdout",
     "output_type": "stream",
     "text": [
      "Enter the number of rows:2\n",
      "Enter the number of columns:2\n",
      "Enter the entries rowwise:\n",
      "2\n",
      "2\n",
      "2\n",
      "2\n"
     ]
    }
   ],
   "source": [
    "R = int(input(\"Enter the number of rows:\"))\n",
    "C = int(input(\"Enter the number of columns:\"))\n",
    "  \n",
    "# Initialize matrix\n",
    "matrix = []\n",
    "print(\"Enter the entries rowwise:\")\n",
    "  \n",
    "# For user input\n",
    "for i in range(R):          # A for loop for row entries\n",
    "    a =[]\n",
    "    for j in range(C):      # A for loop for column entries\n",
    "         a.append(int(input()))\n",
    "    matrix.append(a)"
   ]
  },
  {
   "cell_type": "markdown",
   "id": "0fc68483",
   "metadata": {},
   "source": [
    "## ROW"
   ]
  },
  {
   "cell_type": "code",
   "execution_count": 12,
   "id": "7fb66712",
   "metadata": {},
   "outputs": [
    {
     "name": "stdout",
     "output_type": "stream",
     "text": [
      "2 4\n",
      "2 4\n",
      "2 4\n",
      "2 4\n",
      "2 4\n",
      "2 4\n",
      "2 4\n",
      "2 4\n"
     ]
    }
   ],
   "source": [
    "M = []\n",
    "\n",
    "  \n",
    "for i in range(ROW):  \n",
    "    \n",
    "    x = input().split()\n",
    "    \n",
    "    a = []\n",
    "    \n",
    "    if len(x) == COL:\n",
    "        \n",
    "        for i in x:\n",
    "            \n",
    "            a.append(int(i))\n",
    "            \n",
    "    M.append(a)\n",
    "        \n",
    "        \n",
    "        \n",
    "    \n",
    "    a =[]\n",
    "    \n",
    "    for j in range(4):\n",
    "        \n",
    "        x = input().split()\n",
    "        \n",
    "        for i in x:\n",
    "            \n",
    "            a.append(int(i))\n",
    "    \n",
    "    M.append(a)\n"
   ]
  },
  {
   "cell_type": "code",
   "execution_count": 13,
   "id": "0989e525",
   "metadata": {},
   "outputs": [
    {
     "data": {
      "text/plain": [
       "[[2, 4, 2, 4, 2, 4, 2, 4], [2, 4, 2, 4, 2, 4, 2, 4]]"
      ]
     },
     "execution_count": 13,
     "metadata": {},
     "output_type": "execute_result"
    }
   ],
   "source": [
    "M"
   ]
  },
  {
   "cell_type": "code",
   "execution_count": 21,
   "id": "fc68bc4d",
   "metadata": {},
   "outputs": [
    {
     "name": "stdout",
     "output_type": "stream",
     "text": [
      "4 4\n",
      "4 4\n"
     ]
    }
   ],
   "source": [
    "M = []\n",
    "\n",
    "  \n",
    "for i in range(ROW):  \n",
    "    \n",
    "    x = input().split()\n",
    "    \n",
    "    a = []\n",
    "    \n",
    "    if len(x) == COL:\n",
    "        \n",
    "        for i in x:\n",
    "            \n",
    "            a.append(int(i))\n",
    "            \n",
    "    M.append(a)"
   ]
  },
  {
   "cell_type": "code",
   "execution_count": 22,
   "id": "3fdb24d3",
   "metadata": {},
   "outputs": [
    {
     "data": {
      "text/plain": [
       "[[4, 4], [4, 4]]"
      ]
     },
     "execution_count": 22,
     "metadata": {},
     "output_type": "execute_result"
    }
   ],
   "source": [
    "M"
   ]
  },
  {
   "cell_type": "code",
   "execution_count": null,
   "id": "74369ad7",
   "metadata": {},
   "outputs": [],
   "source": []
  }
 ],
 "metadata": {
  "kernelspec": {
   "display_name": "Python 3",
   "language": "python",
   "name": "python3"
  },
  "language_info": {
   "codemirror_mode": {
    "name": "ipython",
    "version": 3
   },
   "file_extension": ".py",
   "mimetype": "text/x-python",
   "name": "python",
   "nbconvert_exporter": "python",
   "pygments_lexer": "ipython3",
   "version": "3.8.8"
  }
 },
 "nbformat": 4,
 "nbformat_minor": 5
}
